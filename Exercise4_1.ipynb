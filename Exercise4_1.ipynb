{
 "cells": [
  {
   "cell_type": "markdown",
   "id": "df0e5454",
   "metadata": {},
   "source": [
    "## Assignment 1 - Simple temperature calculator\n",
    "\n",
    "In the first problem your aim is to create a function that converts the input temperature from degrees Fahrenheit to degrees Celsius. The conversion formula from Fahrenheit to Celsius can be found below.\n",
    "\n",
    "\\begin{equation}\n",
    "  \\Large\n",
    "  T_{\\mathrm{Celsius}} = \\left( T_{\\mathrm{Fahrenheit}} - 32 \\right) / 1.8\n",
    "\\end{equation}\n",
    "\n",
    "If everything in your script is working properly the following test case should work:\n",
    "\n",
    "```python\n",
    ">>> print(f\"32 degrees Fahrenheit in Celsius is {fahr_to_celsius(32)}\")\n",
    "32 degrees Fahrenheit in Celsius is 0.0\n",
    "```\n",
    "\n",
    "For this problem you will need to modify the code blocks below and add code to produce the desired outcomes. \n",
    "\n",
    "\n",
    "### Scores for this problem\n",
    "\n",
    "**Your score on this problem will be based on following criteria:**\n",
    "\n",
    "- Creating a function called `fahr_to_celsius`\n",
    "- Defining the function to have one input parameter called `temp_fahrenheit`\n",
    "- Creating a variable called `converted_temp` inside the function to which you should assign the conversion result (i.e., the input Fahrenheit temperature converted to Celsius)\n",
    "- Returning the converted value from the function back to the user\n",
    "- Answering some questions about functions at the end of this problem\n",
    "- Adding comments in your code and a docstring that explains how to use your `fahr_to_celsius` function (i.e., you should write the purpose of the function, parameters, and returned values)"
   ]
  },
  {
   "cell_type": "markdown",
   "id": "5295894c",
   "metadata": {},
   "source": [
    "## Part 1 \n",
    "\n",
    "Create a function in the cell below to convert temperatures from Fahrenheit to Celsius.\n",
    "\n",
    "- The function should be called `fahr_to_celsius`\n",
    "- It should have one parameter called `temp_fahrenheit`\n",
    "- It should return a single value, the converted temperature\n",
    "- You should include some inline comments"
   ]
  },
  {
   "cell_type": "code",
   "execution_count": null,
   "id": "524f8978",
   "metadata": {},
   "outputs": [],
   "source": [
    "# YOUR CODE HERE\n"
   ]
  },
  {
   "cell_type": "markdown",
   "id": "5077b3d2",
   "metadata": {},
   "source": [
    "**Use** your newly created function to print answers to the following questions."
   ]
  },
  {
   "cell_type": "code",
   "execution_count": null,
   "id": "3209061b",
   "metadata": {},
   "outputs": [],
   "source": [
    "# 1. What is 48° Fahrenheit in Celsius? \n",
    "\n",
    "# 2. What about 71° Fahrenheit in Celsius?"
   ]
  },
  {
   "cell_type": "markdown",
   "id": "313d9601",
   "metadata": {},
   "source": [
    "### Problem 1 tests\n",
    "\n",
    "Run the code cells below to check your answer. Note that you are not able to modify the test cells. Your solution is on the right track if you don't see any errors when running these code cells. If you receive an error, you need to change something in the code cells above."
   ]
  },
  {
   "cell_type": "code",
   "execution_count": null,
   "id": "5afd3b69",
   "metadata": {},
   "outputs": [],
   "source": [
    "import inspect\n",
    "\n",
    "# Check that function exists\n",
    "assert inspect.isfunction(fahr_to_celsius), 'Fahr_to_celsius should be a function.'"
   ]
  },
  {
   "cell_type": "code",
   "execution_count": null,
   "id": "79532c80",
   "metadata": {},
   "outputs": [],
   "source": [
    "# Check that the function has a single parameter and the parameter name is correct\n",
    "params = list(inspect.signature(fahr_to_celsius).parameters.keys())\n",
    "assert len(params) == 1, 'The function should have one parameter'\n",
    "assert params[0] == 'temp_fahrenheit', 'The parameter name should be \"temp_fahrenheit\".'"
   ]
  },
  {
   "cell_type": "code",
   "execution_count": null,
   "id": "70305b00",
   "metadata": {},
   "outputs": [],
   "source": [
    "# Check that the function produces correct answers for:\n",
    "# 1. What is 48° Fahrenheit in Celsius? \n",
    "assert round(fahr_to_celsius(48), 2) == 8.89"
   ]
  },
  {
   "cell_type": "code",
   "execution_count": null,
   "id": "ed2c08a0",
   "metadata": {},
   "outputs": [],
   "source": [
    "# 2. What about 71° Fahrenheit in Celsius?\n",
    "assert round(fahr_to_celsius(71), 2) == 21.67"
   ]
  },
  {
   "cell_type": "markdown",
   "id": "b92f8583",
   "metadata": {},
   "source": [
    "### Check your code\n",
    "\n",
    "- Make sure you used the given variable names\n",
    "- Check that you have added necessary comments to your code\n",
    "- Check that your function has a docstring that describes what it does"
   ]
  },
  {
   "cell_type": "markdown",
   "id": "5a07e3e6",
   "metadata": {},
   "source": [
    "## Part 2 \n",
    "\n",
    "We would like you to think about and answer the following questions based on the materials and ideas that you learned during the lecture.\n",
    "\n",
    "1. Is the concept of function clear to you? If not, what do you not understand?\n",
    "2. What are some of the benefits of using functions?\n",
    "  \n",
    "Write your answers below (**activate the cell by double clicking**)."
   ]
  },
  {
   "cell_type": "markdown",
   "id": "d183f99f",
   "metadata": {},
   "source": [
    "YOUR ANSWER HERE"
   ]
  },
  {
   "cell_type": "markdown",
   "id": "68c7f481",
   "metadata": {},
   "source": [
    "#### Done!\n",
    "\n",
    "That's it! Now you are ready to continue with the next exercise."
   ]
  },
  {
   "cell_type": "markdown",
   "id": "5509ca17-7f65-493e-9871-750a4b9c687a",
   "metadata": {},
   "source": [
    "Sources for the exercise : https://geo-python-site.readthedocs.io/en/latest/ running on a Attribution-ShareAlike 4.0 International Licence https://creativecommons.org/licenses/by-sa/4.0/deed.en "
   ]
  },
  {
   "cell_type": "code",
   "execution_count": null,
   "id": "71f15a1d-de58-4c2f-8c8a-c2b1e7e84df6",
   "metadata": {},
   "outputs": [],
   "source": []
  }
 ],
 "metadata": {
  "kernelspec": {
   "display_name": "Python 3 (ipykernel)",
   "language": "python",
   "name": "python3"
  },
  "language_info": {
   "codemirror_mode": {
    "name": "ipython",
    "version": 3
   },
   "file_extension": ".py",
   "mimetype": "text/x-python",
   "name": "python",
   "nbconvert_exporter": "python",
   "pygments_lexer": "ipython3",
   "version": "3.11.4"
  }
 },
 "nbformat": 4,
 "nbformat_minor": 5
}
