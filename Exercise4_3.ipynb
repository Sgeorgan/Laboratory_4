{
 "cells": [
  {
   "cell_type": "markdown",
   "id": "2d1c8ce9",
   "metadata": {},
   "source": [
    "## Assignment 3 - Applying the classifier\n",
    "Finally, we can bring together the pieces that we have created in problems 1 and 2. Here, your aim is to take\n",
    "advantage of your new functions and sort a dataset of temperatures in Fahrenheit into four different classes.\n",
    "\n",
    "### Scores for this problem\n",
    "\n",
    "**Your score on this problem will be based on following criteria:**\n",
    "\n",
    "- Creating a new **script** file called `temp_functions.py` with the functions that you wrote in Problems 1 and 2\n",
    "- Including a docstring in the script file\n",
    "- Converting and classifying the list of temperatures in Part 2\n",
    "- Storing the number of temperatures in each class in the specified variables\n",
    "- Answering some questions at the end of this problem\n"
   ]
  },
  {
   "cell_type": "markdown",
   "id": "2620ac83",
   "metadata": {},
   "source": [
    "### Part 1: Creating a script file (1 point)\n",
    "\n",
    "For this part you should\n",
    "\n",
    "- Create a new **script** file called `temp_functions.py` in your `exercise-4-username` directory as we saw in the Lesson 4 materials. Copy and paste the functions that you wrote in Problems 1 and 2 into that script file (i.e., the `fahr_to_celsius` and `temp_classifier` functions)\n",
    "- Add a docstring to the script file (in addition to the separate docstrings in the functions)\n",
    "- Save the script file (CTRL + S) and continue working in **this** Notebook (i.e., `Exercise-4-problem-3.ipynb`)"
   ]
  },
  {
   "cell_type": "markdown",
   "id": "73516229",
   "metadata": {},
   "source": [
    "### Part 2: Convert Fahrenheit temperatures to Celsius (3 points)\n",
    "\n",
    "For this part you should\n",
    "\n",
    "1. Store the Fahrenheit temperatures below into the list `temp_data` (just execute the existing code cell below)."
   ]
  },
  {
   "cell_type": "code",
   "execution_count": 4,
   "id": "4b0f1c65",
   "metadata": {},
   "outputs": [],
   "source": [
    "# List of half-hourly temperature values (in degrees Fahrenheit) for one week\n",
    "temp_data =  [19, 21, 21, 21, 23, 23, 23, 21, 19, 21, 19, 21, 23, 27, 27, 28, 30, 30, 32, 32, 32, 32, \n",
    "              34, 34, 34, 36, 36, 36, 36, 36, 36, 34, 34, 34, 34, 34, 34, 32, 30, 30, 30, 28, 28, 27,\n",
    "              27, 27, 23, 23, 21, 21, 21, 19, 19, 19, 18, 18, 21, 27, 28, 30, 32, 34, 36, 37, 37, 37, \n",
    "              39, 39, 39, 39, 39, 39, 41, 41, 41, 41, 41, 39, 39, 37, 37, 36, 36, 34, 34, 32, 30, 30,\n",
    "              28, 27, 27, 25, 23, 23, 21, 21, 19, 19, 19, 18, 18, 18, 21, 25, 27, 28, 34, 34, 41, 37, \n",
    "              37, 39, 39, 39, 39, 41, 41, 39, 39, 39, 39, 39, 41, 39, 39, 39, 37, 36, 34, 32, 28, 28,\n",
    "              27, 25, 25, 25, 23, 23, 23, 23, 21, 21, 21, 21, 19, 21, 19, 21, 21, 19, 21, 27, 28, 32,\n",
    "              36, 36, 37, 39, 39, 39, 39, 39, 41, 41, 41, 41, 41, 41, 41, 41, 41, 39, 37, 36, 36, 34,\n",
    "              32, 30, 28, 28, 27, 27, 25, 25, 23, 23, 23, 21, 21, 21, 19, 19, 19, 19, 19, 19, 21, 23,\n",
    "              23, 23, 25, 27, 30, 36, 37, 37, 39, 39, 41, 41, 41, 39, 39, 41, 43, 43, 43, 43, 43, 43,\n",
    "              43, 43, 43, 39, 37, 37, 37, 36, 36, 36, 36, 34, 32, 32, 32, 32, 30, 30, 28, 28, 28, 27,\n",
    "              27, 27, 27, 25, 27, 27, 27, 28, 28, 28, 30, 32, 32, 32, 34, 34, 36, 36, 36, 37, 37, 37,\n",
    "              37, 37, 37, 37, 37, 37, 36, 34, 30, 30, 27, 27, 25, 25, 23, 21, 21, 21, 21, 19, 19, 19,\n",
    "              19, 19, 18, 18, 18, 18, 18, 19, 23, 27, 30, 32, 32, 32, 32, 32, 32, 34, 34, 34, 34, 34,\n",
    "              36, 36, 36, 36, 36, 32, 32, 32, 32, 32, 32, 32, 32, 30, 30, 30, 30, 30, 30, 30, 30, 30,\n",
    "              30, 30, 30, 30, 28, 28]"
   ]
  },
  {
   "cell_type": "markdown",
   "id": "d0b7f454",
   "metadata": {},
   "source": [
    "#### Part 2 (continues)\n",
    "\n",
    "2. Import the `fahr_to_celsius` and `temp_classifier` functions from your `temp_functions.py` script\n",
    "3. Create an empty list called `temp_classes` (which will be filled with temperature class numbers later)\n",
    "4. **Convert the Fahrenheit temperatures** in the `temp_data` list into Celsius and **classify the Celsius temperatures** using the importend functions. The output should be stored in the `temp_classes` list.\n",
    " \n",
    "    **You can do the temperature conversion and classification inside one for loop:**\n",
    "\n",
    "    - Iterate over the list of Fahrenheit temperatures (i.e., create a `for` loop), and inside the loop:\n",
    "\n",
    "        1. Create a new variable called `temp_celsius` in which you assign the temperature in Celsius using the `fahr_to_celsius` function to convert the Fahrenheit temperature into Celsius\n",
    "        2. Create a new variable called `temp_class` in which you assign the temperature class number (0, 1, 2, or 3) using the `temp_classifier` function\n",
    "        3. Add the `temp_class` value to the `temp_classes` list"
   ]
  },
  {
   "cell_type": "code",
   "execution_count": 5,
   "id": "b8e65fe5",
   "metadata": {},
   "outputs": [
    {
     "ename": "NotImplementedError",
     "evalue": "",
     "output_type": "error",
     "traceback": [
      "\u001b[1;31m---------------------------------------------------------------------------\u001b[0m",
      "\u001b[1;31mNotImplementedError\u001b[0m                       Traceback (most recent call last)",
      "Input \u001b[1;32mIn [5]\u001b[0m, in \u001b[0;36m<cell line: 2>\u001b[1;34m()\u001b[0m\n\u001b[0;32m      1\u001b[0m \u001b[38;5;66;03m# YOUR CODE HERE\u001b[39;00m\n\u001b[1;32m----> 2\u001b[0m \u001b[38;5;28;01mraise\u001b[39;00m \u001b[38;5;167;01mNotImplementedError\u001b[39;00m()\n",
      "\u001b[1;31mNotImplementedError\u001b[0m: "
     ]
    }
   ],
   "source": [
    "# YOUR CODE HERE\n",
    "raise NotImplementedError()"
   ]
  },
  {
   "cell_type": "markdown",
   "id": "e41a3957",
   "metadata": {},
   "source": [
    "#### Part 2 (continues)\n",
    "\n",
    "6. Calculate how many temperatures there are in each temperature class:\n",
    "\n",
    "    1. Create four variables called `zeros`, `ones`, `twos`, and `threes` \n",
    "    2. Count and assign to each variable how many times values 0, 1, 2, and 3 are present in the `temp_classes` list and print out the results below. In other words, assign the value of how many time `0` is in the list to the variable `zeros`, and so on. \n",
    "  \n",
    "**TIP**: You might want to consider using a [**count()** function](https://www.tutorialspoint.com/python3/list_count.htm) OR a for loop for this."
   ]
  },
  {
   "cell_type": "code",
   "execution_count": null,
   "id": "670fdc82",
   "metadata": {},
   "outputs": [],
   "source": [
    "# 1. How many 0 values exist in the temp_classes list?\n",
    "\n",
    "# 2. How many 1 values exist in the temp_classes list?\n",
    "\n",
    "# 3. How many 2 values exist in the temp_classes list?\n",
    "\n",
    "# 4. How many 3 values exist in the temp_classes list?\n"
   ]
  },
  {
   "cell_type": "markdown",
   "id": "c6271c25",
   "metadata": {},
   "source": [
    "### Problem 3 tests\n",
    "\n",
    "Run the code cells below to check your answer. Note that you are not able to modify the test cells. Your solution is on the right track if you don't see any errors when running these code cells."
   ]
  },
  {
   "cell_type": "code",
   "execution_count": 3,
   "id": "96959bf4",
   "metadata": {},
   "outputs": [
    {
     "ename": "NameError",
     "evalue": "name 'fahr_to_celsius' is not defined",
     "output_type": "error",
     "traceback": [
      "\u001b[1;31m---------------------------------------------------------------------------\u001b[0m",
      "\u001b[1;31mNameError\u001b[0m                                 Traceback (most recent call last)",
      "Input \u001b[1;32mIn [3]\u001b[0m, in \u001b[0;36m<cell line: 4>\u001b[1;34m()\u001b[0m\n\u001b[0;32m      1\u001b[0m \u001b[38;5;28;01mimport\u001b[39;00m \u001b[38;5;21;01minspect\u001b[39;00m\n\u001b[0;32m      3\u001b[0m \u001b[38;5;66;03m# Check that functions are in the namespace\u001b[39;00m\n\u001b[1;32m----> 4\u001b[0m \u001b[38;5;28;01massert\u001b[39;00m inspect\u001b[38;5;241m.\u001b[39misfunction(\u001b[43mfahr_to_celsius\u001b[49m)\n\u001b[0;32m      5\u001b[0m \u001b[38;5;28;01massert\u001b[39;00m inspect\u001b[38;5;241m.\u001b[39misfunction(temp_classifier)\n",
      "\u001b[1;31mNameError\u001b[0m: name 'fahr_to_celsius' is not defined"
     ]
    }
   ],
   "source": [
    "import inspect\n",
    "\n",
    "# Check that functions are in the namespace\n",
    "assert inspect.isfunction(fahr_to_celsius)\n",
    "assert inspect.isfunction(temp_classifier)"
   ]
  },
  {
   "cell_type": "code",
   "execution_count": null,
   "id": "b49c7733",
   "metadata": {},
   "outputs": [],
   "source": [
    "# Check that variable has been created\n",
    "assert 'temp_celsius' in locals()\n",
    "assert 'temp_class' in locals()\n",
    "assert 'temp_classes' in locals()\n",
    "\n",
    "# Check that temp_classes is a list\n",
    "assert type(temp_classes) == list"
   ]
  },
  {
   "cell_type": "code",
   "execution_count": null,
   "id": "8fd237b8",
   "metadata": {},
   "outputs": [],
   "source": [
    "# Check that the functions have a single parameter\n",
    "t_params = list(inspect.signature(temp_classifier).parameters.keys())\n",
    "f_params = list(inspect.signature(fahr_to_celsius).parameters.keys())\n",
    "assert len(t_params) == 1\n",
    "assert len(f_params) == 1"
   ]
  },
  {
   "cell_type": "markdown",
   "id": "03b4da94",
   "metadata": {},
   "source": [
    "Check that required variables exists and print their value (check manually that the answers make sense!):"
   ]
  },
  {
   "cell_type": "code",
   "execution_count": null,
   "id": "0bd10d77",
   "metadata": {},
   "outputs": [],
   "source": [
    "# Check the variable \"zeros\" \n",
    "assert 'zeros' in locals()\n",
    "print(zeros)"
   ]
  },
  {
   "cell_type": "code",
   "execution_count": null,
   "id": "28ba6b3b",
   "metadata": {},
   "outputs": [],
   "source": [
    "# Check the variable \"ones\" \n",
    "assert 'ones' in locals()\n",
    "print(ones)"
   ]
  },
  {
   "cell_type": "code",
   "execution_count": null,
   "id": "a335b113",
   "metadata": {},
   "outputs": [],
   "source": [
    "# Checkthe variable \"twos\" \n",
    "assert 'twos' in locals()\n",
    "print(twos)"
   ]
  },
  {
   "cell_type": "code",
   "execution_count": null,
   "id": "3f8396f9",
   "metadata": {},
   "outputs": [],
   "source": [
    "# Check the variable \"threes\" \n",
    "assert 'threes' in locals()\n",
    "print(threes)"
   ]
  },
  {
   "cell_type": "markdown",
   "id": "7fa61aa5",
   "metadata": {},
   "source": [
    "### Part 3: Check your code \n",
    " \n",
    "- Remeber to check that your have included comments in your code and used the required variable names\n",
    "- If you have any thoughts and concerns at this point, you can write them below."
   ]
  },
  {
   "cell_type": "markdown",
   "id": "78fcdcc6",
   "metadata": {},
   "source": [
    "YOUR ANSWER HERE"
   ]
  },
  {
   "cell_type": "markdown",
   "id": "9ca0f1ce",
   "metadata": {},
   "source": [
    "#### All done!\n",
    "\n",
    "That's it! Now you have finished all the problems for Exercise 4!"
   ]
  }
 ],
 "metadata": {
  "kernelspec": {
   "display_name": "Python 3 (ipykernel)",
   "language": "python",
   "name": "python3"
  },
  "language_info": {
   "codemirror_mode": {
    "name": "ipython",
    "version": 3
   },
   "file_extension": ".py",
   "mimetype": "text/x-python",
   "name": "python",
   "nbconvert_exporter": "python",
   "pygments_lexer": "ipython3",
   "version": "3.9.12"
  }
 },
 "nbformat": 4,
 "nbformat_minor": 5
}
