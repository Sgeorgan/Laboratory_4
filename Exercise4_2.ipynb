{
 "cells": [
  {
   "cell_type": "markdown",
   "id": "85e964cf",
   "metadata": {},
   "source": [
    "## Assignment 2 - Temperature classifier\n",
    "\n",
    "Here, you should create a function called `temp_classifier` that accepts a temperature value in Celsius that will be reclassified into integer numbers 0-3 based on following criteria:\n",
    "\n",
    "| Return value | Classification criteria                                                  |\n",
    "| :----------: | :----------------------------------------------------------------------- |\n",
    "| 0            | Temperatures below -2 degrees Celsius                                    |\n",
    "| 1            | Temperatures equal or warmer than -2, but less than +2 degrees Celsius   |\n",
    "| 2            | Temperatures equal or warmer than +2, but less than +15 degrees Celsius  |\n",
    "| 3            | Temperatures equal or warmer than +15 degrees Celsius                    |\n",
    "\n",
    "\n",
    "### Scores for this problem\n",
    "\n",
    "**Your score on this problem will be based on following criteria:**\n",
    "\n",
    "- Creating a new function called `temp_classifier` ****\n",
    "- Defining one parameter called `temp_celsius` in your `temp_classifier` function ****\n",
    "- Reclassifying input temperatures based on the criteria in the above table and returning the reclassified value as an integer number (i.e., 0, 1, 2, or 3) **)**\n",
    "- Adding comments in your code and a docstring that explains how to use your `temp_classifier` function (i.e., you should write the purpose of the function, parameters, and returned values) ****"
   ]
  },
  {
   "cell_type": "markdown",
   "id": "1c81acd8",
   "metadata": {},
   "source": [
    "## Part 1 )\n",
    "\n",
    "Create a function in the cell below to classify temperatures as directed.\n",
    "\n",
    "- Your function should be called `temp_classifier`\n",
    "- It should have a single parameter called `temp_celsius`\n",
    "- It should properly classify temperatures for a given temperature input value"
   ]
  },
  {
   "cell_type": "code",
   "execution_count": null,
   "id": "6d25e3e9",
   "metadata": {},
   "outputs": [],
   "source": [
    "# YOUR CODE HERE\n"
   ]
  },
  {
   "cell_type": "markdown",
   "id": "0352f484",
   "metadata": {},
   "source": [
    "**Use** your newly created function to print the answers to the following questions:"
   ]
  },
  {
   "cell_type": "code",
   "execution_count": null,
   "id": "b44ac065",
   "metadata": {},
   "outputs": [],
   "source": [
    "# 1. What is the class value for 16.5 degrees Celsius?\n",
    "\n",
    "# 2. What is the class value for +2 degrees Celsius?"
   ]
  },
  {
   "cell_type": "markdown",
   "id": "8094585c",
   "metadata": {},
   "source": [
    "### Problem 2 tests\n",
    "\n",
    "Run the code cells below to check your answer. Note that you are not able to modify the test cells. Your solution is on the right track if you don't see any errors when running these code cells."
   ]
  },
  {
   "cell_type": "code",
   "execution_count": null,
   "id": "269d2669",
   "metadata": {},
   "outputs": [],
   "source": [
    "import inspect\n",
    "\n",
    "# Check that function exists\n",
    "assert inspect.isfunction(temp_classifier)"
   ]
  },
  {
   "cell_type": "code",
   "execution_count": null,
   "id": "398ef5ec",
   "metadata": {},
   "outputs": [],
   "source": [
    "# Check that the function has a single parameter and the pamameter name is correct\n",
    "params = list(inspect.signature(temp_classifier).parameters.keys())\n",
    "assert len(params) == 1\n",
    "assert params[0] == 'temp_celsius'"
   ]
  },
  {
   "cell_type": "markdown",
   "id": "81db740b",
   "metadata": {},
   "source": [
    "Check that the function produces correct answers for selected values:"
   ]
  },
  {
   "cell_type": "code",
   "execution_count": null,
   "id": "def9328f",
   "metadata": {},
   "outputs": [],
   "source": [
    "# 1. What is the class value for 16.5 degrees (Celsius)?\n",
    "assert temp_classifier(16.5) == 3, 'Wrong class'\n",
    "print(\"ok :)\")"
   ]
  },
  {
   "cell_type": "code",
   "execution_count": null,
   "id": "0d114f23",
   "metadata": {},
   "outputs": [],
   "source": [
    "# 2. What is the class value for +2 degrees (Celsius)?\n",
    "assert temp_classifier(2) == 2, 'Wrong class'\n",
    "print(\"ok :)\")"
   ]
  },
  {
   "cell_type": "code",
   "execution_count": null,
   "id": "fbc7d174",
   "metadata": {},
   "outputs": [],
   "source": [
    "# 3. What is the class value for +1 degrees (Celsius)?\n",
    "assert temp_classifier(1) == 1, 'Wrong class'\n",
    "print(\"ok :)\")"
   ]
  },
  {
   "cell_type": "code",
   "execution_count": null,
   "id": "7bd932ad",
   "metadata": {},
   "outputs": [],
   "source": [
    "# 4. What is the class value for -5 degrees (Celsius)?\n",
    "assert temp_classifier(-5) == 0, 'Wrong class'\n",
    "print(\"ok :)\")"
   ]
  },
  {
   "cell_type": "markdown",
   "id": "2ac890e6",
   "metadata": {},
   "source": [
    "## Part 2 \n",
    "\n",
    "Check your code.\n",
    "\n",
    " - Are all the variable names correct?\n",
    " - Does your code contain enough comments?\n",
    " - Does your function have an informative dosctring?"
   ]
  },
  {
   "cell_type": "markdown",
   "id": "0a8dacbd",
   "metadata": {},
   "source": [
    "YOUR ANSWER HERE"
   ]
  },
  {
   "cell_type": "markdown",
   "id": "fac972c2",
   "metadata": {},
   "source": [
    "#### Done!\n",
    "\n",
    "That's it! Now you are ready to continue with the next Task)."
   ]
  },
  {
   "cell_type": "markdown",
   "id": "928622d1-6793-4a8d-96c7-e51c03a1545f",
   "metadata": {
    "tags": []
   },
   "source": [
    "Sources for the exercise : https://geo-python-site.readthedocs.io/en/latest/ running on a Attribution-ShareAlike 4.0 International Licence https://creativecommons.org/licenses/by-sa/4.0/deed.en "
   ]
  },
  {
   "cell_type": "code",
   "execution_count": null,
   "id": "aafbfb93-aeef-4490-8f6e-6417973726ce",
   "metadata": {},
   "outputs": [],
   "source": []
  }
 ],
 "metadata": {
  "kernelspec": {
   "display_name": "Python 3 (ipykernel)",
   "language": "python",
   "name": "python3"
  },
  "language_info": {
   "codemirror_mode": {
    "name": "ipython",
    "version": 3
   },
   "file_extension": ".py",
   "mimetype": "text/x-python",
   "name": "python",
   "nbconvert_exporter": "python",
   "pygments_lexer": "ipython3",
   "version": "3.11.4"
  }
 },
 "nbformat": 4,
 "nbformat_minor": 5
}
